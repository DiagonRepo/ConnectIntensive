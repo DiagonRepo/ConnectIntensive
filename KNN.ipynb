{
 "cells": [
  {
   "cell_type": "markdown",
   "metadata": {
    "nbpresent": {
     "id": "d9fd27e2-4977-4b88-a66e-f699c5fbc3ef"
    }
   },
   "source": [
    "# K-Nearest Neighbors (KNN)"
   ]
  },
  {
   "cell_type": "markdown",
   "metadata": {},
   "source": [
    "### Example of Instance-Based Learning"
   ]
  },
  {
   "cell_type": "markdown",
   "metadata": {},
   "source": [
    "Instead of creating a model from the data and using that model going forward, instance-based methods store the raw data so it remembers. It's fast because it doesn't need to go through a learning step, but it's susceptible to overfitting."
   ]
  },
  {
   "cell_type": "markdown",
   "metadata": {},
   "source": [
    "For classification, the <span style=\"font-weight:bold\">``k``</span> nearest neighbors of a new point vote on its classification by a simple plurality or by doing a weighted vote, depending on your distance. You'll need to figure out how to break ties."
   ]
  },
  {
   "cell_type": "markdown",
   "metadata": {},
   "source": [
    "For regression, the <span style=\"font-weight:bold\">``k``</span> nearest neighbors of a new point are averaged to obtain the value of the new point."
   ]
  },
  {
   "cell_type": "markdown",
   "metadata": {},
   "source": [
    "You'll need to define what <span style=\"font-weight:bold\">``distance``</span> means in this context to find the <span style=\"font-weight:bold\">``k``</span> nearest neighbors of a given point. Of course, you'll also need to determine what value of <span style=\"font-weight:bold\">``k``</span> to use. Both the <span style=\"font-weight:bold\">``distance``</span> and your choice of <span style=\"font-weight:bold\">``k``</span> often come from your domain knowledge of the problem. "
   ]
  },
  {
   "cell_type": "markdown",
   "metadata": {},
   "source": [
    "KNN has three preference biases, or biases that make it better for some problems over others. These could be advantages or disadvantages, depending on your data.\n",
    "1. It assumes your data has <span style=\"font-weight:bold\">locality</span>, that is, near points are similar. Locality is affected by how you choose your <span style=\"font-weight:bold\">``distance``</span> metric. So if you're trying to predict a new point, it will assume this new point will have the same classification, or similar value to other points nearby.\n",
    "* Related to (1), it assumes your data is smooth. For example, if you're trying to model something over time, it assumes that the data will be relatively close to each other from one time point to the next, like the temperature of water as it cools to freezing. An example of unsmooth data is the stock market, which is subject to the whims of emotional investors.\n",
    "* It assumes the surrounding neighbors are equally important. This may not be the case if your data is noisy."
   ]
  },
  {
   "cell_type": "markdown",
   "metadata": {
    "nbpresent": {
     "id": "00db4343-45e9-47b3-863f-674d0a8be1ea"
    }
   },
   "source": [
    "## <span style=\"color:green\">Advantages</span>"
   ]
  },
  {
   "cell_type": "markdown",
   "metadata": {},
   "source": [
    "1. It remembers the data.\n",
    "* It's fast because no learning is involved.\n",
    "* It's simple to implement and to understand.\n",
    "* Querying is also fast because you're only looking at the <span style=\"font-weight:bold\">``k``</span> nearest neighbors, so data far away from the query point are not considered.\n",
    "* Works well if your data meets the preference biases listed above.\n"
   ]
  },
  {
   "cell_type": "markdown",
   "metadata": {
    "nbpresent": {
     "id": "889da463-9c3f-4a2c-9684-36afa6c54905"
    }
   },
   "source": [
    "## <span style=\"color:red\">Disadvantages</span>"
   ]
  },
  {
   "cell_type": "markdown",
   "metadata": {},
   "source": [
    "1. No generalization. If the new query point is far away from any of the existing points, it won't be able to provide good predictions.\n",
    "* It overfits because it believes the data, including the noise.\n",
    "* It's more expensive to store because you keep all the data.\n",
    "* Depending on how you choose your <span style=\"font-weight:bold\">``k``</span> and your <span style=\"font-weight:bold\">``distance``</span> metric, you can wind up with wildly different answers. If you don't have <span style=\"font-weight:bold\">locality</span> in your data, you won't be able to come up with a good distance metric.\n",
    "* Related to the previous, it doesn't work well if the data doesn't satisfy the preference biases."
   ]
  },
  {
   "cell_type": "markdown",
   "metadata": {
    "nbpresent": {
     "id": "0d07ef04-7bd6-43a6-bfc2-ac0386d7959c"
    }
   },
   "source": [
    "## Specific Applications"
   ]
  },
  {
   "cell_type": "markdown",
   "metadata": {},
   "source": [
    "1. \"House comp\" prices, where the price of a house is determined by literally comparing it to the prices of the houses in the same neighborhood that have sold recently. In this case, the distance is not only geographical distance, but also *when* the house sold, ie, more recent prices weigh more heavily than prices 10 years ago.\n",
    "  * <span style=\"color:green\">Advantages</span> It's easy to average the prices of the houses in the neighborhood that have sold recently.\n",
    "  * <span style=\"color:red\">Disadvantages</span> If the last house in the neighborhood sold 20 years ago, you won't have a good reference for how much to sell today. This is an example of data that is *far* away. You could possibly use sale prices from nearby neighborhoods, provided the houses have similar characteristics.\n",
    "    * This is an example where the time dimension is much more important than the geographic distance feature. KNN works in this case despite not meeting the third preference bias.\n",
    "* Using KNN regression to predict the lower half of a face -- http://scikit-learn.org/stable/auto_examples/plot_multioutput_face_completion.html\n",
    "  * The KNN model was trained on the top half of the face.\n",
    "  * The target was the bottom half of the face."
   ]
  }
 ],
 "metadata": {
  "anaconda-cloud": {},
  "kernelspec": {
   "display_name": "Python [default]",
   "language": "python",
   "name": "python2"
  },
  "language_info": {
   "codemirror_mode": {
    "name": "ipython",
    "version": 2
   },
   "file_extension": ".py",
   "mimetype": "text/x-python",
   "name": "python",
   "nbconvert_exporter": "python",
   "pygments_lexer": "ipython2",
   "version": "2.7.12"
  },
  "nbpresent": {
   "slides": {
    "1b4e6916-eee5-41f8-9f65-58c16f953cf9": {
     "id": "1b4e6916-eee5-41f8-9f65-58c16f953cf9",
     "prev": "53ebd6c2-b6a7-48b0-b129-b9b9583f8544",
     "regions": {
      "7f5b839e-4e41-4e5a-8a72-cf2fb4b5e922": {
       "attrs": {
        "height": 0.8,
        "width": 0.8,
        "x": 0.1,
        "y": 0.1
       },
       "content": {
        "cell": "71095cf0-0a10-4fd1-abd0-640f188f9e5c",
        "part": "whole"
       },
       "id": "7f5b839e-4e41-4e5a-8a72-cf2fb4b5e922"
      }
     }
    },
    "2b6685ab-358c-4e2b-af8e-f1d5edaf46ec": {
     "id": "2b6685ab-358c-4e2b-af8e-f1d5edaf46ec",
     "prev": "1b4e6916-eee5-41f8-9f65-58c16f953cf9",
     "regions": {
      "d35d51ac-1565-41cf-8cab-fdb37001f23c": {
       "attrs": {
        "height": 0.8,
        "width": 0.8,
        "x": 0.1,
        "y": 0.1
       },
       "content": {
        "cell": "3db56d6b-753d-4b35-a7c2-0a99b7d9bb4a",
        "part": "whole"
       },
       "id": "d35d51ac-1565-41cf-8cab-fdb37001f23c"
      }
     }
    },
    "346faba8-dbbc-403c-8315-519dd3379a18": {
     "id": "346faba8-dbbc-403c-8315-519dd3379a18",
     "prev": "ce13ec24-c8cd-467d-83e7-896730f637e3",
     "regions": {
      "f8b7946f-f9d7-4651-aaee-05d4bf030b39": {
       "attrs": {
        "height": 0.8,
        "width": 0.8,
        "x": 0.1,
        "y": 0.1
       },
       "content": {
        "cell": "54e0795b-409a-4ea7-84ea-681a4aaa2b73",
        "part": "whole"
       },
       "id": "f8b7946f-f9d7-4651-aaee-05d4bf030b39"
      }
     }
    },
    "51682f33-f3a4-4bef-ad73-e0b0a7287b20": {
     "id": "51682f33-f3a4-4bef-ad73-e0b0a7287b20",
     "prev": "9b4ae84d-e602-44bd-b8de-6a619c13f54b",
     "regions": {
      "a99c8bd2-685e-4038-aed1-af5cd556ce7f": {
       "attrs": {
        "height": 0.8,
        "width": 0.8,
        "x": 0.1,
        "y": 0.1
       },
       "content": {
        "cell": "dc91374d-d7e3-4cbe-ac2f-5ab2e2f1eed6",
        "part": "whole"
       },
       "id": "a99c8bd2-685e-4038-aed1-af5cd556ce7f"
      }
     }
    },
    "53ebd6c2-b6a7-48b0-b129-b9b9583f8544": {
     "id": "53ebd6c2-b6a7-48b0-b129-b9b9583f8544",
     "prev": "ba1b8f98-b620-433c-ac0d-e1aa09cbc040",
     "regions": {
      "77fb4188-621e-4f51-b000-d30760b7d849": {
       "attrs": {
        "height": 0.8,
        "width": 0.8,
        "x": 0.1,
        "y": 0.1
       },
       "content": {
        "cell": "889da463-9c3f-4a2c-9684-36afa6c54905",
        "part": "whole"
       },
       "id": "77fb4188-621e-4f51-b000-d30760b7d849"
      }
     }
    },
    "5424f9a4-bf4f-441d-a71a-ed2b5b2fb3cf": {
     "id": "5424f9a4-bf4f-441d-a71a-ed2b5b2fb3cf",
     "prev": "97f5e060-6f86-4cda-9666-36acdb53bbf0",
     "regions": {
      "256d933e-5f90-45fa-bb65-9a93adf06d36": {
       "attrs": {
        "height": 0.8,
        "width": 0.8,
        "x": 0.1,
        "y": 0.1
       },
       "content": {
        "cell": "0d07ef04-7bd6-43a6-bfc2-ac0386d7959c",
        "part": "whole"
       },
       "id": "256d933e-5f90-45fa-bb65-9a93adf06d36"
      }
     }
    },
    "59ed2173-1245-4bf4-b9ac-8048f9fa089e": {
     "id": "59ed2173-1245-4bf4-b9ac-8048f9fa089e",
     "prev": "346faba8-dbbc-403c-8315-519dd3379a18",
     "regions": {
      "2f98c414-263f-47b2-b530-19473d43a835": {
       "attrs": {
        "height": 0.8,
        "width": 0.8,
        "x": 0.1,
        "y": 0.1
       },
       "content": {
        "cell": "ff15235b-7908-4dab-a0ea-d21509994b3f",
        "part": "whole"
       },
       "id": "2f98c414-263f-47b2-b530-19473d43a835"
      }
     }
    },
    "60a991c3-186b-4a2c-8d80-884522fb8f60": {
     "id": "60a991c3-186b-4a2c-8d80-884522fb8f60",
     "prev": null,
     "regions": {
      "0ee05e17-bb30-4ec6-be12-f64ea250be2b": {
       "attrs": {
        "height": 0.8,
        "width": 0.8,
        "x": 0.1,
        "y": 0.1
       },
       "content": {
        "cell": "d9fd27e2-4977-4b88-a66e-f699c5fbc3ef",
        "part": "whole"
       },
       "id": "0ee05e17-bb30-4ec6-be12-f64ea250be2b"
      }
     }
    },
    "61c487c6-6907-4cdb-bf29-f6a2affc7013": {
     "id": "61c487c6-6907-4cdb-bf29-f6a2affc7013",
     "prev": "2b6685ab-358c-4e2b-af8e-f1d5edaf46ec",
     "regions": {
      "66b590ae-4d40-4ec0-ae27-610b01ef9381": {
       "attrs": {
        "height": 0.8,
        "width": 0.8,
        "x": 0.1,
        "y": 0.1
       },
       "content": {
        "cell": "405d5d5e-0137-4487-bde2-e2e5f19720b4",
        "part": "whole"
       },
       "id": "66b590ae-4d40-4ec0-ae27-610b01ef9381"
      }
     }
    },
    "97f5e060-6f86-4cda-9666-36acdb53bbf0": {
     "id": "97f5e060-6f86-4cda-9666-36acdb53bbf0",
     "prev": "51682f33-f3a4-4bef-ad73-e0b0a7287b20",
     "regions": {
      "7b8c8733-40b9-440c-b8ce-9f1be7469be5": {
       "attrs": {
        "height": 0.8,
        "width": 0.8,
        "x": 0.1,
        "y": 0.1
       },
       "content": {
        "cell": "af4535d0-0763-414c-9177-b38445451ba1",
        "part": "whole"
       },
       "id": "7b8c8733-40b9-440c-b8ce-9f1be7469be5"
      }
     }
    },
    "9b4ae84d-e602-44bd-b8de-6a619c13f54b": {
     "id": "9b4ae84d-e602-44bd-b8de-6a619c13f54b",
     "prev": "59ed2173-1245-4bf4-b9ac-8048f9fa089e",
     "regions": {
      "f334b83d-77e6-4705-a700-44341906fec3": {
       "attrs": {
        "height": 0.8,
        "width": 0.8,
        "x": 0.1,
        "y": 0.1
       },
       "content": {
        "cell": "ec4e8fd8-9ab5-4db2-8d26-f9c78d14fb7c",
        "part": "whole"
       },
       "id": "f334b83d-77e6-4705-a700-44341906fec3"
      }
     }
    },
    "ba1b8f98-b620-433c-ac0d-e1aa09cbc040": {
     "id": "ba1b8f98-b620-433c-ac0d-e1aa09cbc040",
     "prev": "60a991c3-186b-4a2c-8d80-884522fb8f60",
     "regions": {
      "5176333f-673c-4cf1-b6bc-c1d576b74091": {
       "attrs": {
        "height": 0.8,
        "width": 0.8,
        "x": 0.1,
        "y": 0.1
       },
       "content": {
        "cell": "00db4343-45e9-47b3-863f-674d0a8be1ea",
        "part": "whole"
       },
       "id": "5176333f-673c-4cf1-b6bc-c1d576b74091"
      }
     }
    },
    "ce13ec24-c8cd-467d-83e7-896730f637e3": {
     "id": "ce13ec24-c8cd-467d-83e7-896730f637e3",
     "prev": "61c487c6-6907-4cdb-bf29-f6a2affc7013",
     "regions": {
      "6a3a0125-f848-4597-b89a-8c4883dccbc5": {
       "attrs": {
        "height": 0.8,
        "width": 0.8,
        "x": 0.1,
        "y": 0.1
       },
       "content": {
        "cell": "1f76ef6c-0a83-40b5-b67c-dce0b8aa95ca",
        "part": "whole"
       },
       "id": "6a3a0125-f848-4597-b89a-8c4883dccbc5"
      }
     }
    }
   },
   "themes": {}
  }
 },
 "nbformat": 4,
 "nbformat_minor": 1
}
